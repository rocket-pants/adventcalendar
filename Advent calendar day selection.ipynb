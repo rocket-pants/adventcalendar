{
 "cells": [
  {
   "cell_type": "markdown",
   "metadata": {},
   "source": [
    "# Make the advent calendar list"
   ]
  },
  {
   "cell_type": "code",
   "execution_count": 1,
   "metadata": {},
   "outputs": [],
   "source": [
    "import numpy as np"
   ]
  },
  {
   "cell_type": "code",
   "execution_count": 18,
   "metadata": {},
   "outputs": [
    {
     "name": "stdout",
     "output_type": "stream",
     "text": [
      "Andre :  [1, 15, 16, 19]\n",
      "Bryson :  [2, 4, 18, 20]\n",
      "Ed :  [8, 14, 17, 21]\n",
      "Jason :  [5, 11, 23, 24]\n",
      "Nic :  [3, 6, 12, 22]\n",
      "Reggie :  [7, 9, 10, 13]\n"
     ]
    }
   ],
   "source": [
    "boozehounds = ['Andre', 'Bryson', 'Ed', 'Jason', 'Nic', 'Reggie']\n",
    "days = list(range(1,25))\n",
    "np.random.shuffle(days)\n",
    "\n",
    "for hound in boozehounds:\n",
    "    beers=[]\n",
    "    for b in range(0,4):\n",
    "        beer=days.pop()\n",
    "        beers.append(beer)\n",
    "    beers.sort()\n",
    "    print(hound, ': ', beers)"
   ]
  },
  {
   "cell_type": "code",
   "execution_count": null,
   "metadata": {},
   "outputs": [],
   "source": []
  }
 ],
 "metadata": {
  "kernelspec": {
   "display_name": ".venv",
   "language": "python",
   "name": "python3"
  },
  "language_info": {
   "codemirror_mode": {
    "name": "ipython",
    "version": 3
   },
   "file_extension": ".py",
   "mimetype": "text/x-python",
   "name": "python",
   "nbconvert_exporter": "python",
   "pygments_lexer": "ipython3",
   "version": "3.12.0"
  }
 },
 "nbformat": 4,
 "nbformat_minor": 2
}
